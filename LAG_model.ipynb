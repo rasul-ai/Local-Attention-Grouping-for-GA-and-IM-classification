{
  "cells": [
    {
      "cell_type": "code",
      "execution_count": null,
      "metadata": {
        "colab": {
          "base_uri": "https://localhost:8080/"
        },
        "id": "FyH2JDkPjVNl",
        "outputId": "244d2c2d-b4dd-4e8c-8afd-8f588ed5a4d1"
      },
      "outputs": [
        {
          "output_type": "stream",
          "name": "stdout",
          "text": [
            "Mounted at /content/drive\n"
          ]
        }
      ],
      "source": [
        "from google.colab import drive\n",
        "drive.mount('/content/drive')"
      ]
    },
    {
      "cell_type": "code",
      "execution_count": null,
      "metadata": {
        "id": "8rKXxxBdjdox"
      },
      "outputs": [],
      "source": [
        "import os\n",
        "import time\n",
        "import torch\n",
        "import torchvision\n",
        "import torch.nn as nn\n",
        "import torch.optim as optim\n",
        "import torch.nn.functional as F\n",
        "from torchvision import transforms\n",
        "from torch.utils.data import DataLoader, Dataset, Subset\n",
        "import torchvision.models as models\n",
        "from PIL import Image\n",
        "import matplotlib.pyplot as plt\n"
      ]
    },
    {
      "cell_type": "code",
      "execution_count": null,
      "metadata": {
        "id": "ootctNVCjdx2"
      },
      "outputs": [],
      "source": [
        "class CustomDataset(Dataset):\n",
        "    def __init__(self, data_path, transform=None):\n",
        "        self.data_path = data_path\n",
        "        self.transform = transform\n",
        "        self.images = []\n",
        "        self.labels = []\n",
        "        for label in os.listdir(data_path):\n",
        "            if label == 'cat':\n",
        "                class_label = 0\n",
        "            elif label == 'dog':\n",
        "                class_label = 1\n",
        "            else:\n",
        "                continue\n",
        "            for image_file in os.listdir(os.path.join(data_path, label)):\n",
        "                self.images.append(os.path.join(data_path, label, image_file))\n",
        "                self.labels.append(class_label)\n",
        "\n",
        "    def __len__(self):\n",
        "        return len(self.images)\n",
        "\n",
        "    def __getitem__(self, idx):\n",
        "        image = Image.open(self.images[idx])\n",
        "        # Ensure that the image is in RGB format\n",
        "        image = image.convert(\"RGB\")\n",
        "        label = self.labels[idx]\n",
        "\n",
        "        if self.transform:\n",
        "            image = self.transform(image)\n",
        "\n",
        "        return image, label\n",
        "\n",
        "\n",
        "# Define the transformations\n",
        "transform = transforms.Compose([\n",
        "    transforms.Resize((1024, 1024)),\n",
        "    transforms.ToTensor(),\n",
        "])\n"
      ]
    },
    {
      "cell_type": "code",
      "execution_count": null,
      "metadata": {
        "colab": {
          "base_uri": "https://localhost:8080/"
        },
        "id": "m_Uwdcqjjd7n",
        "outputId": "8563af63-a26f-41e2-e823-32e088169a01"
      },
      "outputs": [
        {
          "output_type": "stream",
          "name": "stdout",
          "text": [
            "Train_samples: 700\n",
            "Validation_samples: 100\n",
            "Test_samples: 200\n"
          ]
        }
      ],
      "source": [
        "data_path = '/content/drive/MyDrive/Dogs/d3_train'\n",
        "\n",
        "dataset = CustomDataset(data_path, transform=transform)\n",
        "\n",
        "import random\n",
        "from torch.utils.data import Subset\n",
        "\n",
        "random_seed = 42\n",
        "random.seed(random_seed)\n",
        "torch.manual_seed(random_seed)\n",
        "\n",
        "# Define the split ratio for validation and test sets\n",
        "validation_ratio = 0.1  # 20% of the data for validation\n",
        "test_ratio = 0.2       # 20% of the data for testing\n",
        "\n",
        "# Calculate the number of samples for validation and test sets\n",
        "total_samples = len(dataset)\n",
        "num_validation_samples = min(int(validation_ratio * total_samples), total_samples // 2)\n",
        "num_test_samples = min(int(test_ratio * total_samples), total_samples // 2)\n",
        "\n",
        "# Create an index list for shuffling\n",
        "indices_3 = list(range(total_samples))\n",
        "random.shuffle(indices_3)\n",
        "\n",
        "# Split the indices into validation and test sets while maintaining class balance\n",
        "train_indices = []\n",
        "validation_indices = []\n",
        "test_indices = []\n",
        "indices_2 = []\n",
        "v_num_cat = 0\n",
        "v_num_dog = 0\n",
        "t_num_cat = 0\n",
        "t_num_dog = 0\n",
        "\n",
        "for idx in indices_3:\n",
        "    label = dataset.labels[idx]\n",
        "    if label == 0 and v_num_cat < num_validation_samples / 2:\n",
        "        validation_indices.append(idx)\n",
        "        v_num_cat += 1\n",
        "    elif label == 1 and v_num_dog < num_validation_samples / 2:\n",
        "        validation_indices.append(idx)\n",
        "        v_num_dog += 1\n",
        "    else:\n",
        "        indices_2.append(idx)\n",
        "\n",
        "for idx in indices_2:\n",
        "    label = dataset.labels[idx]\n",
        "    if label == 0 and t_num_cat < num_test_samples / 2:\n",
        "        test_indices.append(idx)\n",
        "        t_num_cat += 1\n",
        "    elif label == 1 and t_num_dog < num_test_samples / 2:\n",
        "        test_indices.append(idx)\n",
        "        t_num_dog += 1\n",
        "    else:\n",
        "        train_indices.append(idx)\n",
        "\n",
        "# Create custom datasets for validation and test sets\n",
        "training_dataset = Subset(dataset, train_indices)\n",
        "validation_dataset = Subset(dataset, validation_indices)\n",
        "test_dataset = Subset(dataset, test_indices)\n",
        "\n",
        "print(\"Train_samples: \" + str(len(training_dataset)))\n",
        "print(\"Validation_samples: \" + str(len(validation_dataset)))\n",
        "print(\"Test_samples: \" + str(len(test_dataset)))\n",
        "\n",
        "\n",
        "# Create data loaders for validation and test sets\n",
        "train_dataloader = DataLoader(training_dataset, batch_size=1, shuffle=True)\n",
        "validation_dataloader = DataLoader(validation_dataset, batch_size=1, shuffle=True)\n",
        "test_dataloader = DataLoader(test_dataset, batch_size=1, shuffle=True)\n",
        "\n"
      ]
    },
    {
      "cell_type": "code",
      "execution_count": null,
      "metadata": {
        "id": "x0WYQHaTnOzO"
      },
      "outputs": [],
      "source": [
        "# Define the CNN model\n",
        "class CNNwithSE(nn.Module):\n",
        "    def __init__(self):\n",
        "        super(CNNwithSE, self).__init__()\n",
        "        self.conv1 = nn.Conv2d(3, 16, kernel_size=3, stride=1, padding=1)\n",
        "        self.conv2 = nn.Conv2d(16, 32, kernel_size=3, stride=1, padding=1)\n",
        "        self.conv3 = nn.Conv2d(32, 64, kernel_size=3, stride=1, padding=1)\n",
        "        self.relu = nn.ReLU()\n",
        "        self.maxpool = nn.MaxPool2d(2)\n",
        "        # self.flatten = nn.Flatten()\n",
        "        # self.fc = nn.Linear(64 * 8 * 8, 2)  # Assuming output size 2 for binary classification\n",
        "        self.se = SEBlock(64)  # SE block with 64 channels\n",
        "\n",
        "    def forward(self, x):\n",
        "        x = self.relu(self.conv1(x))\n",
        "        x = self.maxpool(x)\n",
        "        x = self.relu(self.conv2(x))\n",
        "        x = self.maxpool(x)\n",
        "        x = self.relu(self.conv3(x))\n",
        "        x = self.maxpool(x)\n",
        "        # x = self.flatten(x)\n",
        "        # x = self.fc(x)\n",
        "        x = self.se(x)\n",
        "        return x"
      ]
    },
    {
      "cell_type": "code",
      "execution_count": null,
      "metadata": {
        "id": "whzNC_BqzZUu"
      },
      "outputs": [],
      "source": [
        "class SEBlock(nn.Module):\n",
        "    def __init__(self, channel, reduction_ratio=4):\n",
        "        super(SEBlock, self).__init__()\n",
        "        self.avg_pool = nn.AdaptiveAvgPool2d(1)\n",
        "        self.fc = nn.Sequential(\n",
        "            nn.Linear(channel, channel // reduction_ratio, bias=False),\n",
        "            nn.ReLU(inplace=True),\n",
        "            nn.Linear(channel // reduction_ratio, channel, bias=False),\n",
        "            nn.Sigmoid()\n",
        "        )\n",
        "\n",
        "    def forward(self, x):\n",
        "        batch_size, channel, height, width = x.size()\n",
        "        y = self.avg_pool(x).view(batch_size, channel) #excitation block\n",
        "        y = self.fc(y).view(batch_size, channel, 1, 1) #squeeze block\n",
        "        return x * y.expand_as(x)  #scaling"
      ]
    },
    {
      "cell_type": "code",
      "execution_count": null,
      "metadata": {
        "id": "uMyNSB0UEVrO"
      },
      "outputs": [],
      "source": [
        "class SEResNet(nn.Module):\n",
        "    def __init__(self):\n",
        "        super(SEResNet, self).__init__()\n",
        "        self.resnet = models.resnet50(pretrained=True)\n",
        "        # Modify layers to preserve the output shape\n",
        "        self.resnet.layer4[0].conv2.stride = (1, 1)\n",
        "        self.resnet.layer4[0].downsample[0].stride = (1, 1)\n",
        "        self.resnet.layer4[0].conv3.stride = (1, 1)\n",
        "\n",
        "        self.additional_conv = nn.Conv2d(2048, 64, kernel_size=1)\n",
        "        self.avgpool = nn.AdaptiveAvgPool2d((8, 8)) # Reshape the output from (1,64,14,14) to (1,64,8,8)\n",
        "        self.se = SEBlock(64)  # SE block with 64 channels\n",
        "\n",
        "    def forward(self, x):\n",
        "        x = self.resnet.conv1(x)\n",
        "        x = self.resnet.bn1(x)\n",
        "        x = self.resnet.relu(x)\n",
        "        x = self.resnet.maxpool(x)\n",
        "\n",
        "        x = self.resnet.layer1(x)\n",
        "        x = self.resnet.layer2(x)\n",
        "        x = self.resnet.layer3(x)\n",
        "        x = self.resnet.layer4(x)\n",
        "\n",
        "        # Additional convolutional layer to adjust the number of output channels\n",
        "        x = self.additional_conv(x)\n",
        "        x = self.avgpool(x)\n",
        "        x = self.se(x)\n",
        "\n",
        "        return x\n"
      ]
    },
    {
      "cell_type": "code",
      "execution_count": null,
      "metadata": {
        "id": "RWZ2HslL25jT"
      },
      "outputs": [],
      "source": [
        "class Classifier(nn.Module):\n",
        "    def __init__(self):\n",
        "        super(Classifier, self).__init__()\n",
        "        self.fc1 = nn.Linear(704 * 8 * 8, 128)\n",
        "        self.relu = nn.ReLU()\n",
        "        self.fc2 = nn.Linear(128, 1)  # Output has 2 nodes for the two classes\n",
        "        self.sigmoid = nn.Sigmoid()\n",
        "\n",
        "    def forward(self, x):\n",
        "        x = x.view(x.size(0), -1)  # Flatten the input tensor\n",
        "        x = self.relu(self.fc1(x))\n",
        "        x = self.sigmoid(self.fc2(x))\n",
        "        return x"
      ]
    },
    {
      "cell_type": "code",
      "execution_count": null,
      "metadata": {
        "id": "NmDuQeRmuT2Y"
      },
      "outputs": [],
      "source": [
        "class LAG(nn.Module):\n",
        "    def __init__(self):\n",
        "        super(LAG, self).__init__()\n",
        "        self.cnn_se_model = CNNwithSE()\n",
        "        self.backbone = SEResNet()\n",
        "        self.classifier = Classifier()\n",
        "\n",
        "    def forward(self, image):\n",
        "        sub_module_outputs = []\n",
        "        for i in range(10):\n",
        "            crop_transform = transforms.RandomCrop(64)\n",
        "            cropped_image = crop_transform(image)\n",
        "            output = self.cnn_se_model(cropped_image)\n",
        "            sub_module_outputs.append(output)\n",
        "\n",
        "        ensemble_sub_module = torch.cat(sub_module_outputs, dim=1)\n",
        "\n",
        "        resize_data = transforms.Resize((224, 224))\n",
        "        resized_image = resize_data(image)\n",
        "        backbone_output = self.backbone(resized_image)\n",
        "\n",
        "        concatenated_output = torch.cat((backbone_output, ensemble_sub_module), dim=1)\n",
        "\n",
        "        lag_output = self.classifier(concatenated_output)\n",
        "        return lag_output"
      ]
    },
    {
      "cell_type": "code",
      "execution_count": null,
      "metadata": {
        "colab": {
          "base_uri": "https://localhost:8080/"
        },
        "id": "9qnFuKkP1PA6",
        "outputId": "22fb9d0d-73d8-4ebc-948b-4728da1e149b"
      },
      "outputs": [
        {
          "output_type": "stream",
          "name": "stderr",
          "text": [
            "/usr/local/lib/python3.10/dist-packages/torchvision/models/_utils.py:208: UserWarning: The parameter 'pretrained' is deprecated since 0.13 and may be removed in the future, please use 'weights' instead.\n",
            "  warnings.warn(\n",
            "/usr/local/lib/python3.10/dist-packages/torchvision/models/_utils.py:223: UserWarning: Arguments other than a weight enum or `None` for 'weights' are deprecated since 0.13 and may be removed in the future. The current behavior is equivalent to passing `weights=ResNet50_Weights.IMAGENET1K_V1`. You can also use `weights=ResNet50_Weights.DEFAULT` to get the most up-to-date weights.\n",
            "  warnings.warn(msg)\n",
            "Downloading: \"https://download.pytorch.org/models/resnet50-0676ba61.pth\" to /root/.cache/torch/hub/checkpoints/resnet50-0676ba61.pth\n",
            "100%|██████████| 97.8M/97.8M [00:00<00:00, 110MB/s]\n"
          ]
        }
      ],
      "source": [
        "model = LAG()\n",
        "loss_function = nn.BCEWithLogitsLoss()\n",
        "# loss_function = nn.CrossEntropyLoss()\n",
        "optimizer = optim.Adam(model.parameters(), lr=0.000001)"
      ]
    },
    {
      "cell_type": "code",
      "execution_count": null,
      "metadata": {
        "id": "QZDPpgLhX4w9"
      },
      "outputs": [],
      "source": [
        "path = \"/content/drive/MyDrive/model/tl3_50e_lag_model.pth\"\n",
        "train_losses = []\n",
        "val_losses = []\n",
        "train_accuracy = []\n",
        "val_accuracy = []\n",
        "\n",
        "# Check if a checkpoint exists to resume training\n",
        "if os.path.exists(path):\n",
        "  checkpoint = torch.load(path)\n",
        "  model.load_state_dict(checkpoint[\"model_state_dict\"])\n",
        "  optimizer.load_state_dict(checkpoint[\"optimizer_state_dict\"])\n",
        "  train_losses = checkpoint[\"train_loss\"]\n",
        "  val_losses = checkpoint[\"valid_loss\"]\n",
        "  train_accuracy = checkpoint['t_accuracy']\n",
        "  val_accuracy = checkpoint['v_accuracy']\n",
        "  start_epoch = checkpoint[\"epoch\"] + 1  # Start from the next epoch after the loaded checkpoint\n",
        "  print(\"Resume training from epoch\", start_epoch)\n",
        "else:\n",
        "  start_epoch = 1"
      ]
    },
    {
      "cell_type": "code",
      "execution_count": null,
      "metadata": {
        "id": "oaMSnYQBg16b"
      },
      "outputs": [],
      "source": [
        "import time\n",
        "\n",
        "# Define accuracy calculation function\n",
        "def calculate_accuracy(predictions, labels):\n",
        "    predicted_labels = (predictions > 0.5).int()\n",
        "    correct = (predicted_labels == labels).sum().item()\n",
        "    accuracy = correct / labels.size(0)\n",
        "    return accuracy\n",
        "\n",
        "total_epochs = 50\n",
        "for epoch in range(start_epoch, total_epochs + 1):\n",
        "    model.train()\n",
        "    s_time = time.time()\n",
        "    train_loss = 0.0\n",
        "    val_loss = 0.0\n",
        "    train_correct = 0\n",
        "    val_correct = 0\n",
        "\n",
        "    for batch_idx, (image, label) in enumerate(test_dataloader):\n",
        "        prediction = model(image)\n",
        "        prediction = prediction.squeeze(1)\n",
        "        tloss = loss_function(prediction, label.float())\n",
        "        train_loss += tloss.item()\n",
        "        train_correct += calculate_accuracy(prediction, label)\n",
        "\n",
        "        optimizer.zero_grad()\n",
        "        tloss.backward()\n",
        "        optimizer.step()\n",
        "\n",
        "    train_loss /= len(test_dataloader)\n",
        "    t_accuracy = train_correct / len(test_dataloader)\n",
        "\n",
        "    train_losses.append(train_loss)\n",
        "    train_accuracy.append(t_accuracy)\n",
        "\n",
        "    with torch.no_grad():\n",
        "        for batch, (img, lbl) in enumerate(validation_dataloader):\n",
        "            prediction = model(img)\n",
        "            prediction = prediction.squeeze(1)\n",
        "            vloss = loss_function(prediction, lbl.float())\n",
        "            val_loss += vloss.item()\n",
        "            val_correct += calculate_accuracy(prediction, lbl)\n",
        "\n",
        "    val_loss /= len(validation_dataloader)\n",
        "    v_accuracy = val_correct / len(validation_dataloader)\n",
        "    val_losses.append(val_loss)\n",
        "    val_accuracy.append(v_accuracy)\n",
        "\n",
        "    print(f'Epoch [{epoch}/{total_epochs}], Train Loss: {train_loss:.4f}, Train Accuracy: {t_accuracy * 100:.2f}%, Val Loss: {val_loss:.4f}, Val Accuracy: {v_accuracy * 100:.2f}%, Time: {time.time() - s_time:.2f} sec')\n",
        "\n",
        "    # Save model checkpoint\n",
        "    checkpoint = {\n",
        "        'epoch': epoch,\n",
        "        'model_state_dict': model.state_dict(),\n",
        "        'optimizer_state_dict': optimizer.state_dict(),\n",
        "        'train_loss': train_losses,\n",
        "        'valid_loss': val_losses,\n",
        "        't_accuracy': train_accuracy,\n",
        "        'v_accuracy': val_accuracy,\n",
        "    }\n",
        "    torch.save(checkpoint, path)\n"
      ]
    },
    {
      "cell_type": "code",
      "execution_count": null,
      "metadata": {
        "colab": {
          "base_uri": "https://localhost:8080/",
          "height": 472
        },
        "id": "eSjAnwZN0tEq",
        "outputId": "06ac88a0-7a86-467f-cba6-ef083611db40"
      },
      "outputs": [
        {
          "output_type": "display_data",
          "data": {
            "text/plain": [
              "<Figure size 640x480 with 1 Axes>"
            ],
            "image/png": "[encoded data removed]"
          },
          "metadata": {}
        }
      ],
      "source": [
        "# Plot the loss graph\n",
        "plt.figure()\n",
        "plt.plot(train_losses, label='Train Loss')\n",
        "plt.plot(val_losses, label='Validation Loss')\n",
        "plt.legend()\n",
        "plt.xlabel('Epoch')\n",
        "plt.ylabel('Loss')\n",
        "plt.title('Training and Validation Loss')\n",
        "plt.show()"
      ]
    },
    {
      "cell_type": "code",
      "execution_count": null,
      "metadata": {
        "colab": {
          "base_uri": "https://localhost:8080/",
          "height": 472
        },
        "id": "3rBzHwxdc_Yp",
        "outputId": "f7552fe2-78b5-4d18-edfb-2475f74feb16"
      },
      "outputs": [
        {
          "output_type": "display_data",
          "data": {
            "text/plain": [
              "<Figure size 640x480 with 1 Axes>"
            ],
            "image/png": "[encoded data removed]"
          },
          "metadata": {}
        }
      ],
      "source": [
        "# Plot the loss graph\n",
        "plt.figure()\n",
        "plt.plot(train_accuracy, label='Train Accuracy')\n",
        "plt.plot(val_accuracy, label='Validation Accuracy')\n",
        "plt.legend()\n",
        "plt.xlabel('Epoch')\n",
        "plt.ylabel('Loss')\n",
        "plt.title('Training and Validation Accuracy')\n",
        "plt.show()"
      ]
    },
    {
      "cell_type": "code",
      "execution_count": null,
      "metadata": {
        "colab": {
          "base_uri": "https://localhost:8080/"
        },
        "id": "W3VJ-tk-lCFu",
        "outputId": "2f25c26d-4688-4aef-d956-6e7ee1520e83"
      },
      "outputs": [
        {
          "output_type": "stream",
          "name": "stderr",
          "text": [
            "/usr/local/lib/python3.10/dist-packages/torchvision/transforms/functional.py:1603: UserWarning: The default value of the antialias parameter of all the resizing transforms (Resize(), RandomResizedCrop(), etc.) will change from None to True in v0.17, in order to be consistent across the PIL and Tensor backends. To suppress this warning, directly pass antialias=True (recommended, future default), antialias=None (current default, which means False for Tensors and True for PIL), or antialias=False (only works on Tensors - PIL will still use antialiasing). This also applies if you are using the inference transforms from the models weights: update the call to weights.transforms(antialias=True).\n",
            "  warnings.warn(\n"
          ]
        },
        {
          "output_type": "stream",
          "name": "stdout",
          "text": [
            "Accuracy: 99.86%\n"
          ]
        }
      ],
      "source": [
        "from sklearn.metrics import accuracy_score\n",
        "import numpy as np\n",
        "model.eval()\n",
        "test_correct = 0\n",
        "labels = []\n",
        "test_predictions = []\n",
        "with torch.no_grad():\n",
        "    for image, label in train_dataloader:\n",
        "        predictions = model(image)\n",
        "        prediction = predictions.squeeze(1)\n",
        "        test_correct += calculate_accuracy(prediction, label)\n",
        "\n",
        "        # Apply sigmoid to convert logits to probabilities\n",
        "        probabilities = torch.sigmoid(predictions)\n",
        "        predicted_labels = (probabilities > 0.6).int()\n",
        "        labels.append(label)\n",
        "        test_predictions.append(predicted_labels)\n",
        "\n",
        "    test_accuracy = test_correct / len(train_dataloader)\n",
        "\n",
        "    print(f\"Accuracy: {test_accuracy * 100:.2f}%\")\n",
        "\n"
      ]
    },
    {
      "cell_type": "code",
      "execution_count": null,
      "metadata": {
        "id": "KefgCrXxllcs",
        "colab": {
          "base_uri": "https://localhost:8080/"
        },
        "outputId": "c314e58e-1fec-4a1b-a04b-411b64a6eddf"
      },
      "outputs": [
        {
          "output_type": "stream",
          "name": "stdout",
          "text": [
            "Accuracy: 97.00%\n"
          ]
        }
      ],
      "source": [
        "from sklearn.metrics import accuracy_score\n",
        "import numpy as np\n",
        "model.eval()\n",
        "labels = []\n",
        "test_predictions = []\n",
        "with torch.no_grad():\n",
        "    for image, label in validation_dataloader:\n",
        "        predictions = model(image)\n",
        "        # Apply sigmoid to convert logits to probabilities\n",
        "        probabilities = torch.sigmoid(predictions)\n",
        "        predicted_labels = (probabilities > 0.6).int()\n",
        "        labels.append(label)\n",
        "        test_predictions.append(predicted_labels)\n",
        "        # print(\"predicted label : \",predicted_labels)\n",
        "\n",
        "    labels_flat = [label.item() for batch_labels in labels for label in batch_labels]\n",
        "    test_predictions_flat = [pred.item() for batch_predictions in test_predictions for pred in batch_predictions]\n",
        "\n",
        "    labels_flat = np.array(labels_flat)\n",
        "    test_predictions_flat = np.array(test_predictions_flat)\n",
        "\n",
        "    accuracy = accuracy_score(labels_flat, test_predictions_flat)\n",
        "\n",
        "    print(f\"Accuracy: {accuracy * 100:.2f}%\")\n",
        "\n"
      ]
    }
  ],
  "metadata": {
    "colab": {
      "provenance": []
    },
    "kernelspec": {
      "display_name": "Python 3",
      "name": "python3"
    },
    "language_info": {
      "name": "python"
    }
  },
  "nbformat": 4,
  "nbformat_minor": 0
}